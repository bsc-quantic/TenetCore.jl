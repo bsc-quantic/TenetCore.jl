{
    "cells": [
        {
            "cell_type": "markdown",
            "id": "fc78139f",
            "metadata": {},
            "source": [
                "# Tensor Network"
            ]
        },
        {
            "cell_type": "code",
            "execution_count": 1,
            "id": "703b737c",
            "metadata": {},
            "outputs": [],
            "source": [
                "using TenetCore"
            ]
        },
        {
            "cell_type": "markdown",
            "id": "dd01527d",
            "metadata": {},
            "source": [
                "The most fundamental interface in TenetCore is `TensorNetwork`. It defines the methods that need to be implemented by a \"Tensor Network\": access to tensors, inds and adding/removing/replacing them too. It is defined in [src/Interfaces/TensorNetwork.jl](../src/Interfaces/TensorNetwork.jl).\n",
                "\n",
                "`SimpleTensorNetwork` is a concrete type that implements both the `TensorNetwork` and `Network` interfaces , but in general.\n",
                "\n",
                "> [!NOTE]\n",
                "> `SimpleTensorNetwork` is basically a copy-paste of Tenet's `TensorNetwork` refactored to fit the new interfaces."
            ]
        },
        {
            "cell_type": "code",
            "execution_count": 2,
            "id": "93c94f31",
            "metadata": {},
            "outputs": [
                {
                    "data": {
                        "text/plain": [
                            "SimpleTensorNetwork (#tensors=2, #inds=3)"
                        ]
                    },
                    "metadata": {},
                    "output_type": "display_data"
                }
            ],
            "source": [
                "A = Tensor(rand(2,2), [Index(:i), Index(:j)])\n",
                "B = Tensor(rand(2,2), [Index(:j), Index(:k)])\n",
                "tn = SimpleTensorNetwork([A, B])"
            ]
        },
        {
            "cell_type": "markdown",
            "id": "66da4404",
            "metadata": {},
            "source": [
                "## Tensors"
            ]
        },
        {
            "cell_type": "markdown",
            "id": "148ee9e7",
            "metadata": {},
            "source": [
                "To access the tensors in a Tensor Network, there is the explicit `tensors_*` methods or the keyword-dispatched `tensors` function.\n",
                "\n",
                "If you want to get all the tensors, you can call `all_tensors` or just `tensors`."
            ]
        },
        {
            "cell_type": "code",
            "execution_count": 3,
            "id": "44f5440d",
            "metadata": {},
            "outputs": [
                {
                    "data": {
                        "text/plain": [
                            "2-element Vector{Tensor}:\n",
                            " [0.29942422960966175 0.9426442933561636; 0.44413244363982096 0.8089520718065251]\n",
                            " [0.5730113605575105 0.017342601634127597; 0.5408191116093481 0.13063706837810418]"
                        ]
                    },
                    "metadata": {},
                    "output_type": "display_data"
                }
            ],
            "source": [
                "tensors(tn)"
            ]
        },
        {
            "cell_type": "markdown",
            "id": "8a26b708",
            "metadata": {},
            "source": [
                "`tensors_with_inds` (aka `tensors(; withinds)`) returns the `Tensor`s whose `inds` match the ones passed down."
            ]
        },
        {
            "cell_type": "code",
            "execution_count": 4,
            "id": "e40e8528",
            "metadata": {},
            "outputs": [
                {
                    "data": {
                        "text/plain": [
                            "1-element Vector{Tensor{Float64, 2, Matrix{Float64}}}:\n",
                            " [0.5730113605575105 0.017342601634127597; 0.5408191116093481 0.13063706837810418]"
                        ]
                    },
                    "metadata": {},
                    "output_type": "display_data"
                }
            ],
            "source": [
                "tensors(tn; withinds=[Index(:i), Index(:j)])"
            ]
        },
        {
            "cell_type": "markdown",
            "id": "8f194068",
            "metadata": {},
            "source": [
                "`tensors_contain_inds` (aka `tensors(; contain)`) returns all the `Tensor`s whose `inds` contain **all** the indices you pass."
            ]
        },
        {
            "cell_type": "code",
            "execution_count": 5,
            "id": "8e024cb3",
            "metadata": {},
            "outputs": [
                {
                    "data": {
                        "text/plain": [
                            "1-element Vector{Tensor{Float64, 2, Matrix{Float64}}}:\n",
                            " [0.5730113605575105 0.017342601634127597; 0.5408191116093481 0.13063706837810418]"
                        ]
                    },
                    "metadata": {},
                    "output_type": "display_data"
                }
            ],
            "source": [
                "tensors(tn; contain=Index(:i))"
            ]
        },
        {
            "cell_type": "markdown",
            "id": "9655d256",
            "metadata": {},
            "source": [
                "`tensors_intersect_inds` (aka `tensors(; intersect)`) returns all the `Tensors` whose `inds` **intersect** with the ones you pass (i.e. contain at least one)."
            ]
        },
        {
            "cell_type": "code",
            "execution_count": 6,
            "id": "bdbc620c",
            "metadata": {},
            "outputs": [
                {
                    "data": {
                        "text/plain": [
                            "1-element Vector{Tensor}:\n",
                            " [0.5730113605575105 0.017342601634127597; 0.5408191116093481 0.13063706837810418]"
                        ]
                    },
                    "metadata": {},
                    "output_type": "display_data"
                }
            ],
            "source": [
                "tensors(tn; intersect=Index(:i))"
            ]
        },
        {
            "cell_type": "markdown",
            "id": "d27e45a6",
            "metadata": {},
            "source": [
                "The difference between `intersect` and `contain` arises when you pass a list of indices."
            ]
        },
        {
            "cell_type": "code",
            "execution_count": 7,
            "id": "24dd6da4",
            "metadata": {},
            "outputs": [
                {
                    "data": {
                        "text/plain": [
                            "Tensor{Float64, 2, Matrix{Float64}}[]"
                        ]
                    },
                    "metadata": {},
                    "output_type": "display_data"
                }
            ],
            "source": [
                "tensors(tn; contain=[Index(:i), Index(:k)])"
            ]
        },
        {
            "cell_type": "code",
            "execution_count": 8,
            "id": "44f8e294",
            "metadata": {},
            "outputs": [
                {
                    "data": {
                        "text/plain": [
                            "2-element Vector{Tensor}:\n",
                            " [0.29942422960966175 0.9426442933561636; 0.44413244363982096 0.8089520718065251]\n",
                            " [0.5730113605575105 0.017342601634127597; 0.5408191116093481 0.13063706837810418]"
                        ]
                    },
                    "metadata": {},
                    "output_type": "display_data"
                }
            ],
            "source": [
                "tensors(tn; intersect=[Index(:i), Index(:k)])"
            ]
        },
        {
            "cell_type": "markdown",
            "id": "9542627d",
            "metadata": {},
            "source": [
                "`ntensors` returns the number of tensors in a Tensor Network, and accepts the same keyword arguments as `tensors`. The reason for it to be used instead of `length(tensors(...))` is that it can be wayyy faster on some ocassions, so it's better to use `ntensors` if you're gonna call it a lot of times."
            ]
        },
        {
            "cell_type": "code",
            "execution_count": 9,
            "id": "8403e0a1",
            "metadata": {},
            "outputs": [
                {
                    "data": {
                        "text/plain": [
                            "2"
                        ]
                    },
                    "metadata": {},
                    "output_type": "display_data"
                }
            ],
            "source": [
                "ntensors(tn)"
            ]
        },
        {
            "cell_type": "code",
            "execution_count": 10,
            "id": "3d8e9e86",
            "metadata": {},
            "outputs": [
                {
                    "data": {
                        "text/plain": [
                            "2"
                        ]
                    },
                    "metadata": {},
                    "output_type": "display_data"
                }
            ],
            "source": [
                "ntensors(tn; contain=Index(:j))"
            ]
        },
        {
            "cell_type": "markdown",
            "id": "2e525050",
            "metadata": {},
            "source": [
                "`hastensor` checks if a certain `Tensor` is inside the Tensor Network. Note that in TenetCore (and Tenet), we use \"egality\" (i.e. `===`) to check for belonging. So even if 2 `Tensor`s are equal, it won't matter: it needs to be the **exact same tensor**."
            ]
        },
        {
            "cell_type": "code",
            "execution_count": 11,
            "id": "8ed4865c",
            "metadata": {},
            "outputs": [
                {
                    "data": {
                        "text/plain": [
                            "true"
                        ]
                    },
                    "metadata": {},
                    "output_type": "display_data"
                }
            ],
            "source": [
                "hastensor(tn, A)"
            ]
        },
        {
            "cell_type": "code",
            "execution_count": 12,
            "id": "cea0348a",
            "metadata": {},
            "outputs": [
                {
                    "data": {
                        "text/plain": [
                            "false"
                        ]
                    },
                    "metadata": {},
                    "output_type": "display_data"
                }
            ],
            "source": [
                "hastensor(tn, Tensor(rand(2,2), [Index(:i), Index(:j)]))"
            ]
        },
        {
            "cell_type": "markdown",
            "id": "8d3e98aa",
            "metadata": {},
            "source": [
                "## Indices"
            ]
        },
        {
            "cell_type": "markdown",
            "id": "3897df12",
            "metadata": {},
            "source": [
                "`all_inds` (aka `inds`) returns all the indices present in the Tensor Network."
            ]
        },
        {
            "cell_type": "code",
            "execution_count": 13,
            "id": "795c11e3",
            "metadata": {},
            "outputs": [
                {
                    "data": {
                        "text/plain": [
                            "3-element Vector{Index}:\n",
                            " Index{Symbol}(:j)\n",
                            " Index{Symbol}(:k)\n",
                            " Index{Symbol}(:i)"
                        ]
                    },
                    "metadata": {},
                    "output_type": "display_data"
                }
            ],
            "source": [
                "inds(tn)"
            ]
        },
        {
            "cell_type": "markdown",
            "id": "882c3afe",
            "metadata": {},
            "source": [
                "`inds_set_open` (aka `inds(; set=:open)`) returns the open indices (i.e. indices appearing in only 1 tensor)."
            ]
        },
        {
            "cell_type": "code",
            "execution_count": 14,
            "id": "07c0f410",
            "metadata": {},
            "outputs": [
                {
                    "data": {
                        "text/plain": [
                            "2-element Vector{Index}:\n",
                            " Index{Symbol}(:i)\n",
                            " Index{Symbol}(:k)"
                        ]
                    },
                    "metadata": {},
                    "output_type": "display_data"
                }
            ],
            "source": [
                "inds(tn; set=:open)"
            ]
        },
        {
            "cell_type": "markdown",
            "id": "6d373844",
            "metadata": {},
            "source": [
                "`inds_set_inner` (aka `inds(; set=:inner)`) returns the inner indices (i.e. indices appearing in just 2 tensors)."
            ]
        },
        {
            "cell_type": "code",
            "execution_count": 15,
            "id": "5665160c",
            "metadata": {},
            "outputs": [
                {
                    "data": {
                        "text/plain": [
                            "1-element Vector{Index}:\n",
                            " Index{Symbol}(:j)"
                        ]
                    },
                    "metadata": {},
                    "output_type": "display_data"
                }
            ],
            "source": [
                "inds(tn; set=:inner)"
            ]
        },
        {
            "cell_type": "markdown",
            "id": "bb2e014f",
            "metadata": {},
            "source": [
                "`inds_set_hyper` (aka `inds(; set=:hyper)`) returns the hyper indices (i.e. indices appearing in 3 or more tensors)."
            ]
        },
        {
            "cell_type": "code",
            "execution_count": 16,
            "id": "295f7939",
            "metadata": {},
            "outputs": [
                {
                    "data": {
                        "text/plain": [
                            "Index[]"
                        ]
                    },
                    "metadata": {},
                    "output_type": "display_data"
                }
            ],
            "source": [
                "inds(tn; set=:hyper)"
            ]
        },
        {
            "cell_type": "markdown",
            "id": "aa5df71f",
            "metadata": {},
            "source": [
                "`inds_parallel_to` (aka `inds(; parallel_to)`) returns any other index \"parallel\" to the one passed."
            ]
        },
        {
            "cell_type": "code",
            "execution_count": 17,
            "id": "e6895069",
            "metadata": {},
            "outputs": [
                {
                    "data": {
                        "text/plain": [
                            "Index[]"
                        ]
                    },
                    "metadata": {},
                    "output_type": "display_data"
                }
            ],
            "source": [
                "inds(tn; parallel_to=Index(:i))"
            ]
        },
        {
            "cell_type": "markdown",
            "id": "103d3113",
            "metadata": {},
            "source": [
                "Just like with `ntensors` and `hastensor`, there exist its `inds` counterparts: `ninds` and `hasind`."
            ]
        },
        {
            "cell_type": "code",
            "execution_count": 18,
            "id": "5ffd34ea",
            "metadata": {},
            "outputs": [
                {
                    "data": {
                        "text/plain": [
                            "3"
                        ]
                    },
                    "metadata": {},
                    "output_type": "display_data"
                }
            ],
            "source": [
                "ninds(tn)"
            ]
        },
        {
            "cell_type": "code",
            "execution_count": 19,
            "id": "42f0c4fe",
            "metadata": {},
            "outputs": [
                {
                    "data": {
                        "text/plain": [
                            "2"
                        ]
                    },
                    "metadata": {},
                    "output_type": "display_data"
                }
            ],
            "source": [
                "ninds(tn; set=:open)"
            ]
        },
        {
            "cell_type": "code",
            "execution_count": 20,
            "id": "4102ef52",
            "metadata": {},
            "outputs": [
                {
                    "data": {
                        "text/plain": [
                            "true"
                        ]
                    },
                    "metadata": {},
                    "output_type": "display_data"
                }
            ],
            "source": [
                "hasind(tn, Index(:i))"
            ]
        },
        {
            "cell_type": "code",
            "execution_count": 21,
            "id": "490ab7ae",
            "metadata": {},
            "outputs": [
                {
                    "data": {
                        "text/plain": [
                            "false"
                        ]
                    },
                    "metadata": {},
                    "output_type": "display_data"
                }
            ],
            "source": [
                "hasind(tn, Index(:not_i))"
            ]
        },
        {
            "cell_type": "markdown",
            "id": "12048d0c",
            "metadata": {},
            "source": [
                "Calling `size_inds` (aka `Base.size`) on a Tensor Network, returns a `Dict` that maps `Index` to their sizes."
            ]
        },
        {
            "cell_type": "code",
            "execution_count": 22,
            "id": "fa674add",
            "metadata": {},
            "outputs": [
                {
                    "data": {
                        "text/plain": [
                            "Dict{Index, Int64} with 3 entries:\n",
                            "  Index{Symbol}(:i) => 2\n",
                            "  Index{Symbol}(:j) => 2\n",
                            "  Index{Symbol}(:k) => 2"
                        ]
                    },
                    "metadata": {},
                    "output_type": "display_data"
                }
            ],
            "source": [
                "size(tn)"
            ]
        },
        {
            "cell_type": "markdown",
            "id": "58b0cdaa",
            "metadata": {},
            "source": [
                "`size_ind` (aka `Base.size` with an `Index` as the 2nd argument) returns the size for just the passed `Index`."
            ]
        },
        {
            "cell_type": "code",
            "execution_count": 23,
            "id": "75417bc8",
            "metadata": {},
            "outputs": [
                {
                    "data": {
                        "text/plain": [
                            "2"
                        ]
                    },
                    "metadata": {},
                    "output_type": "display_data"
                }
            ],
            "source": [
                "size(tn, Index(:i))"
            ]
        },
        {
            "cell_type": "markdown",
            "id": "37205642",
            "metadata": {},
            "source": [
                "## Mutation"
            ]
        },
        {
            "cell_type": "markdown",
            "id": "a869134a",
            "metadata": {},
            "source": [
                "### Adding a tensor"
            ]
        },
        {
            "cell_type": "code",
            "execution_count": 24,
            "id": "c816464f",
            "metadata": {},
            "outputs": [
                {
                    "data": {
                        "text/plain": [
                            "SimpleTensorNetwork (#tensors=3, #inds=4)"
                        ]
                    },
                    "metadata": {},
                    "output_type": "display_data"
                }
            ],
            "source": [
                "tensor = Tensor(rand(2,2), [Index(:i), Index(:i2)])\n",
                "addtensor!(tn, tensor)"
            ]
        },
        {
            "cell_type": "markdown",
            "id": "d65b3784",
            "metadata": {},
            "source": [
                "### Renaming an index"
            ]
        },
        {
            "cell_type": "code",
            "execution_count": 25,
            "id": "7d9e6196",
            "metadata": {},
            "outputs": [
                {
                    "data": {
                        "text/plain": [
                            "SimpleTensorNetwork (#tensors=3, #inds=4)"
                        ]
                    },
                    "metadata": {},
                    "output_type": "display_data"
                }
            ],
            "source": [
                "replace_ind!(tn, Index(:i), Index(plug\"1\"))"
            ]
        },
        {
            "cell_type": "code",
            "execution_count": 26,
            "id": "ecabdd71",
            "metadata": {},
            "outputs": [
                {
                    "data": {
                        "text/plain": [
                            "SimpleTensorNetwork (#tensors=3, #inds=4)"
                        ]
                    },
                    "metadata": {},
                    "output_type": "display_data"
                }
            ],
            "source": [
                "replace!(tn, Index(:k) => Index(plug\"2\"))\n",
                "replace!(tn, Index(:j) => Index(bond\"1-2\"))"
            ]
        },
        {
            "cell_type": "code",
            "execution_count": 27,
            "id": "9d07d110",
            "metadata": {},
            "outputs": [
                {
                    "data": {
                        "text/plain": [
                            "4-element Vector{Index}:\n",
                            " Index{Bond{CartesianSite{1}, CartesianSite{1}}}((1,) <=> (2,))\n",
                            " Index{Plug{CartesianSite{1}}}((2,))\n",
                            " Index{Symbol}(:i2)\n",
                            " Index{Plug{CartesianSite{1}}}((1,))"
                        ]
                    },
                    "metadata": {},
                    "output_type": "display_data"
                }
            ],
            "source": [
                "inds(tn)"
            ]
        },
        {
            "cell_type": "markdown",
            "id": "7e0c2eac",
            "metadata": {},
            "source": [
                "### Removing a tensor"
            ]
        },
        {
            "cell_type": "code",
            "execution_count": 28,
            "id": "65fd5857",
            "metadata": {},
            "outputs": [
                {
                    "ename": "ArgumentError",
                    "evalue": "ArgumentError: tensor not found",
                    "output_type": "error",
                    "traceback": [
                        "ArgumentError: tensor not found\n",
                        "\n",
                        "Stacktrace:\n",
                        " [1] checkeffect\n",
                        "   @ ~/Developer/TenetCore.jl/src/Interfaces/TensorNetwork.jl:424 [inlined]\n",
                        " [2] checkeffect\n",
                        "   @ ~/Developer/TenetCore.jl/src/Interfaces/TensorNetwork.jl:421 [inlined]\n",
                        " [3] rmtensor!(tn::SimpleTensorNetwork, tensor::Tensor{Float64, 2, Matrix{Float64}})\n",
                        "   @ TenetCore ~/Developer/TenetCore.jl/src/Interfaces/TensorNetwork.jl:415\n",
                        " [4] top-level scope\n",
                        "   @ ~/Developer/TenetCore.jl/examples/jl_notebook_cell_df34fa98e69747e1a8f8a730347b8e2f_Y101sZmlsZQ==.jl:1"
                    ]
                }
            ],
            "source": [
                "rmtensor!(tn, tensor)"
            ]
        },
        {
            "cell_type": "markdown",
            "id": "a8efc671",
            "metadata": {},
            "source": [
                "Index `:i` has been renamed and `Tensor`  is \"immutable\" (the `Tensor` object itself and the indices are immutable, but the array can be mutated if it allows so) so `tensor` has been replaced by another `Tensor`."
            ]
        },
        {
            "cell_type": "code",
            "execution_count": 29,
            "id": "842e825b",
            "metadata": {},
            "outputs": [
                {
                    "data": {
                        "text/plain": [
                            "2×2 Tensor{Float64, 2, Matrix{Float64}}:\n",
                            " 0.916427  0.292559\n",
                            " 0.942706  0.385372"
                        ]
                    },
                    "metadata": {},
                    "output_type": "display_data"
                }
            ],
            "source": [
                "tensor = only(tensors(tn; contain=Index(:i2)))"
            ]
        },
        {
            "cell_type": "code",
            "execution_count": 30,
            "id": "2173956e",
            "metadata": {},
            "outputs": [
                {
                    "data": {
                        "text/plain": [
                            "SimpleTensorNetwork (#tensors=2, #inds=4)"
                        ]
                    },
                    "metadata": {},
                    "output_type": "display_data"
                }
            ],
            "source": [
                "rmtensor!(tn, tensor)"
            ]
        },
        {
            "cell_type": "markdown",
            "id": "70cbc261",
            "metadata": {},
            "source": [
                "## Delegation\n",
                "\n",
                "If you want to build another Tensor Network type on top of a type that implements the `TensorNetwork` interface (e.g. `GenericTensorNetwork`), TenetCore uses a \"delegation\" mechanism that automatically implements and calls the correct methods for you.\n",
                "\n",
                "The only thing you need to do is to define `DelegatorTrait` for your type.\n",
                "\n",
                "For more information, check out [DelegatorTraits.jl](https://github.com/bsc-quantic/DelegatorTraits.jl)."
            ]
        },
        {
            "cell_type": "code",
            "execution_count": 31,
            "id": "7f3d249f",
            "metadata": {},
            "outputs": [],
            "source": [
                "struct MyTensorNetwork <: TenetCore.AbstractTensorNetwork\n",
                "    tn::SimpleTensorNetwork\n",
                "end\n",
                "\n",
                "MyTensorNetwork() = MyTensorNetwork(SimpleTensorNetwork())\n",
                "TenetCore.DelegatorTrait(::TenetCore.TensorNetwork, tn::MyTensorNetwork) = TenetCore.DelegateTo{:tn}()"
            ]
        },
        {
            "cell_type": "code",
            "execution_count": 32,
            "id": "fcf95701",
            "metadata": {},
            "outputs": [
                {
                    "data": {
                        "text/plain": [
                            "MyTensorNetwork (#tensors=0, #inds=0)"
                        ]
                    },
                    "metadata": {},
                    "output_type": "display_data"
                }
            ],
            "source": [
                "my_tn = MyTensorNetwork()"
            ]
        },
        {
            "cell_type": "code",
            "execution_count": 33,
            "id": "452aff11",
            "metadata": {},
            "outputs": [
                {
                    "data": {
                        "text/plain": [
                            "1-element Vector{Tensor}:\n",
                            " [0.9668505321162132 0.10147395859448316; 0.5473016117549419 0.18035314553882353]"
                        ]
                    },
                    "metadata": {},
                    "output_type": "display_data"
                }
            ],
            "source": [
                "tensor = Tensor(rand(2,2), [Index(:i), Index(:j)])\n",
                "addtensor!(my_tn, tensor)\n",
                "tensors(my_tn)"
            ]
        },
        {
            "cell_type": "code",
            "execution_count": 34,
            "id": "8c90a64e",
            "metadata": {},
            "outputs": [
                {
                    "data": {
                        "text/plain": [
                            "MyTensorNetwork (#tensors=1, #inds=2)"
                        ]
                    },
                    "metadata": {},
                    "output_type": "display_data"
                }
            ],
            "source": [
                "replace_ind!(my_tn, Index(:i), Index(:new_i))"
            ]
        },
        {
            "cell_type": "code",
            "execution_count": 35,
            "id": "34031af1",
            "metadata": {},
            "outputs": [
                {
                    "data": {
                        "text/plain": [
                            "2-element Vector{Index}:\n",
                            " Index{Symbol}(:new_i)\n",
                            " Index{Symbol}(:j)"
                        ]
                    },
                    "metadata": {},
                    "output_type": "display_data"
                }
            ],
            "source": [
                "inds(my_tn)"
            ]
        },
        {
            "cell_type": "code",
            "execution_count": null,
            "id": "efa7d19d",
            "metadata": {},
            "outputs": [],
            "source": []
        }
    ],
    "metadata": {
        "kernelspec": {
            "display_name": "Julia 1.11.5",
            "language": "julia",
            "name": "julia-1.11"
        },
        "language_info": {
            "file_extension": ".jl",
            "mimetype": "application/julia",
            "name": "julia",
            "version": "1.11.5"
        }
    },
    "nbformat": 4,
    "nbformat_minor": 5
}
