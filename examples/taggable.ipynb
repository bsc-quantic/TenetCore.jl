{
    "cells": [
        {
            "cell_type": "markdown",
            "id": "a56fc81c",
            "metadata": {},
            "source": [
                "# Taggable interface"
            ]
        },
        {
            "cell_type": "code",
            "execution_count": 1,
            "id": "c904ce13",
            "metadata": {},
            "outputs": [],
            "source": [
                "using TenetCore\n",
                "using Networks\n",
                "using QuantumTags"
            ]
        },
        {
            "cell_type": "markdown",
            "id": "84a7160d",
            "metadata": {},
            "source": [
                "`Taggable` is the interface that allows a `Network` to tag its vertices and edges with `Tag`s.\n",
                "\n",
                "`GenericTensorNetwork` is a concrete type that wraps `SimpleTensorNetwork` and implements `Taggable` (along other interfaces)."
            ]
        },
        {
            "cell_type": "code",
            "execution_count": 2,
            "id": "e9f97949",
            "metadata": {},
            "outputs": [
                {
                    "data": {
                        "text/plain": [
                            "GenericTensorNetwork (#tensors=0, #inds=0)"
                        ]
                    },
                    "metadata": {},
                    "output_type": "display_data"
                }
            ],
            "source": [
                "tn = GenericTensorNetwork()"
            ]
        },
        {
            "cell_type": "code",
            "execution_count": 3,
            "id": "3c6203bc",
            "metadata": {},
            "outputs": [
                {
                    "data": {
                        "text/plain": [
                            "SimpleTensorNetwork (#tensors=2, #inds=3)"
                        ]
                    },
                    "metadata": {},
                    "output_type": "display_data"
                }
            ],
            "source": [
                "Γa = Tensor([1 0; 0 1], [Index(:i), Index(:j)])\n",
                "Γb = Tensor([1 0; 0 1], [Index(:j), Index(:k)])\n",
                "addtensor!(tn, Γa)\n",
                "addtensor!(tn, Γb)"
            ]
        },
        {
            "cell_type": "markdown",
            "id": "be8eeba0",
            "metadata": {},
            "source": [
                "It associates vertices and edges with `Site` and `Link` tags.\n",
                "\n",
                "`Site` is a `Tag` abstract type that should be thought as a \"physical site\" in physical lattice. The most basic concrete subtype is `CartesianSite`, which stores a `Tuple` of integers."
            ]
        },
        {
            "cell_type": "code",
            "execution_count": 4,
            "id": "cb9b306b",
            "metadata": {},
            "outputs": [
                {
                    "name": "stdout",
                    "output_type": "stream",
                    "text": [
                        "CartesianSite(1) = (1,)\n",
                        "CartesianSite(2, 3) = (2, 3)\n"
                    ]
                },
                {
                    "data": {
                        "text/plain": [
                            "(2, 3)"
                        ]
                    },
                    "metadata": {},
                    "output_type": "display_data"
                }
            ],
            "source": [
                "@show CartesianSite(1) CartesianSite(2,3)"
            ]
        },
        {
            "cell_type": "markdown",
            "id": "4b5258e8",
            "metadata": {},
            "source": [
                "In other to facilitate writing, there is the `@site_str` macro that translates to a `CartesianSite`."
            ]
        },
        {
            "cell_type": "code",
            "execution_count": 5,
            "id": "0f12d289",
            "metadata": {},
            "outputs": [
                {
                    "data": {
                        "text/plain": [
                            "(1,)"
                        ]
                    },
                    "metadata": {},
                    "output_type": "display_data"
                }
            ],
            "source": [
                "site\"1\""
            ]
        },
        {
            "cell_type": "code",
            "execution_count": 6,
            "id": "e08f7fc2",
            "metadata": {},
            "outputs": [
                {
                    "data": {
                        "text/plain": [
                            "(1, 2)"
                        ]
                    },
                    "metadata": {},
                    "output_type": "display_data"
                }
            ],
            "source": [
                "site\"1,2\""
            ]
        },
        {
            "cell_type": "code",
            "execution_count": 7,
            "id": "fe3def1f",
            "metadata": {},
            "outputs": [
                {
                    "data": {
                        "text/plain": [
                            "CartesianSite{1}"
                        ]
                    },
                    "metadata": {},
                    "output_type": "display_data"
                }
            ],
            "source": [
                "typeof(site\"1\")"
            ]
        },
        {
            "cell_type": "markdown",
            "id": "c84bfa16",
            "metadata": {},
            "source": [
                "In order to tag a vertex with a `Site`, there is the `tag_vertex!` function."
            ]
        },
        {
            "cell_type": "code",
            "execution_count": 8,
            "id": "9bb110bc",
            "metadata": {},
            "outputs": [
                {
                    "data": {
                        "text/plain": [
                            "GenericTensorNetwork (#tensors=2, #inds=3)"
                        ]
                    },
                    "metadata": {},
                    "output_type": "display_data"
                }
            ],
            "source": [
                "v = vertex_at(tn, Γa)\n",
                "tag_vertex!(tn, v, site\"1\")"
            ]
        },
        {
            "cell_type": "markdown",
            "id": "f13b666a",
            "metadata": {},
            "source": [
                "Note that since `Tensor`s are associated one-to-one with vertices, they can also be use in substitution of vertices; i.e. you can directly tag `Tensor`s."
            ]
        },
        {
            "cell_type": "code",
            "execution_count": 9,
            "id": "fdb639d1",
            "metadata": {},
            "outputs": [
                {
                    "data": {
                        "text/plain": [
                            "GenericTensorNetwork (#tensors=2, #inds=3)"
                        ]
                    },
                    "metadata": {},
                    "output_type": "display_data"
                }
            ],
            "source": [
                "tag_vertex!(tn, Γb, site\"2\")"
            ]
        },
        {
            "cell_type": "markdown",
            "id": "f1a62692",
            "metadata": {},
            "source": [
                "`vertex_tags` returns all the tags associated to vertices / `Tensor`s (i.e. all the `Site` tags)."
            ]
        },
        {
            "cell_type": "code",
            "execution_count": 10,
            "id": "7d43e705",
            "metadata": {},
            "outputs": [
                {
                    "data": {
                        "text/plain": [
                            "2-element Vector{Site}:\n",
                            " (2,)\n",
                            " (1,)"
                        ]
                    },
                    "metadata": {},
                    "output_type": "display_data"
                }
            ],
            "source": [
                "vertex_tags(tn)"
            ]
        },
        {
            "cell_type": "markdown",
            "id": "9af41e1f",
            "metadata": {},
            "source": [
                "In order to retrieve a vertex or tensor with that tag, there are the `vertex_at` and `tensor_at` (aka `tensor(; at)`) functions."
            ]
        },
        {
            "cell_type": "code",
            "execution_count": 11,
            "id": "d3585d7e",
            "metadata": {},
            "outputs": [
                {
                    "data": {
                        "text/plain": [
                            "Networks.Vertex{Base.UUID}(Base.UUID(\"2a2f60c2-f6f6-4782-958f-342f53a916e3\"))"
                        ]
                    },
                    "metadata": {},
                    "output_type": "display_data"
                }
            ],
            "source": [
                "vertex_at(tn, site\"1\")"
            ]
        },
        {
            "cell_type": "code",
            "execution_count": 12,
            "id": "b165c3e8",
            "metadata": {},
            "outputs": [
                {
                    "data": {
                        "text/plain": [
                            "2×2 Tensor{Int64, 2, Matrix{Int64}}:\n",
                            " 1  0\n",
                            " 0  1"
                        ]
                    },
                    "metadata": {},
                    "output_type": "display_data"
                }
            ],
            "source": [
                "tensor_at(tn, site\"1\")"
            ]
        },
        {
            "cell_type": "code",
            "execution_count": 13,
            "id": "bd1606e3",
            "metadata": {},
            "outputs": [
                {
                    "data": {
                        "text/plain": [
                            "true"
                        ]
                    },
                    "metadata": {},
                    "output_type": "display_data"
                }
            ],
            "source": [
                "tensor(tn; at=site\"1\") === Γa"
            ]
        },
        {
            "cell_type": "markdown",
            "id": "f5fa3d7b",
            "metadata": {},
            "source": [
                "On the other hand, there are `Link`s: `Tag` abstract type for `Index`s.\n",
                "\n",
                "The most fundamental `Link` types are `Plug` (used for representing physical input/output open indices) and `Bond` (used for representing virtual bonds connecting different sites)."
            ]
        },
        {
            "cell_type": "code",
            "execution_count": 14,
            "id": "ce123d17",
            "metadata": {},
            "outputs": [
                {
                    "data": {
                        "text/plain": [
                            "(1,)"
                        ]
                    },
                    "metadata": {},
                    "output_type": "display_data"
                }
            ],
            "source": [
                "plug\"1\""
            ]
        },
        {
            "cell_type": "code",
            "execution_count": 15,
            "id": "ded527c6",
            "metadata": {},
            "outputs": [
                {
                    "data": {
                        "text/plain": [
                            "Plug{CartesianSite{1}}"
                        ]
                    },
                    "metadata": {},
                    "output_type": "display_data"
                }
            ],
            "source": [
                "typeof(plug\"1\")"
            ]
        },
        {
            "cell_type": "code",
            "execution_count": 16,
            "id": "5d8043f7",
            "metadata": {},
            "outputs": [
                {
                    "data": {
                        "text/plain": [
                            "(1,) <=> (2,)"
                        ]
                    },
                    "metadata": {},
                    "output_type": "display_data"
                }
            ],
            "source": [
                "bond\"1-2\""
            ]
        },
        {
            "cell_type": "code",
            "execution_count": 17,
            "id": "6b71f966",
            "metadata": {},
            "outputs": [
                {
                    "data": {
                        "text/plain": [
                            "(1,) <=> (2,)"
                        ]
                    },
                    "metadata": {},
                    "output_type": "display_data"
                }
            ],
            "source": [
                "Bond(site\"1\", site\"2\")"
            ]
        },
        {
            "cell_type": "markdown",
            "id": "48969fc3",
            "metadata": {},
            "source": [
                "Just like with `Site`s, `tag!` can be used for tagging `Index` with a `Link`."
            ]
        },
        {
            "cell_type": "code",
            "execution_count": 18,
            "id": "00676a1e",
            "metadata": {},
            "outputs": [
                {
                    "data": {
                        "text/plain": [
                            "GenericTensorNetwork (#tensors=2, #inds=3)"
                        ]
                    },
                    "metadata": {},
                    "output_type": "display_data"
                }
            ],
            "source": [
                "e = edge_at(tn, Index(:i))\n",
                "tag_edge!(tn, e, plug\"1\")"
            ]
        },
        {
            "cell_type": "code",
            "execution_count": 19,
            "id": "e24877a7",
            "metadata": {},
            "outputs": [
                {
                    "data": {
                        "text/plain": [
                            "GenericTensorNetwork (#tensors=2, #inds=3)"
                        ]
                    },
                    "metadata": {},
                    "output_type": "display_data"
                }
            ],
            "source": [
                "tag_edge!(tn, Index(:k), plug\"2\")\n",
                "tag_edge!(tn, Index(:j), bond\"1-2\")"
            ]
        },
        {
            "cell_type": "markdown",
            "id": "9fdfb481",
            "metadata": {},
            "source": [
                "`edge_tags` retrieves all the `Tag`s associated with edges / `Index`s."
            ]
        },
        {
            "cell_type": "code",
            "execution_count": 20,
            "id": "4f388e0b",
            "metadata": {},
            "outputs": [
                {
                    "data": {
                        "text/plain": [
                            "3-element Vector{Link}:\n",
                            " (1,)\n",
                            " (2,)\n",
                            " (1,) <=> (2,)"
                        ]
                    },
                    "metadata": {},
                    "output_type": "display_data"
                }
            ],
            "source": [
                "edge_tags(tn)"
            ]
        },
        {
            "cell_type": "markdown",
            "id": "3454088a",
            "metadata": {},
            "source": [
                "Finally, `edge_at` and `ind_at` (aka `ind(; at)`) return the `Edge` and `Index` linked to the tag."
            ]
        },
        {
            "cell_type": "code",
            "execution_count": 21,
            "id": "f28f3c9e",
            "metadata": {},
            "outputs": [
                {
                    "data": {
                        "text/plain": [
                            "Index{Symbol}(:i)"
                        ]
                    },
                    "metadata": {},
                    "output_type": "display_data"
                }
            ],
            "source": [
                "ind_at(tn, plug\"1\")"
            ]
        },
        {
            "cell_type": "markdown",
            "id": "ddea1099",
            "metadata": {},
            "source": [
                "## The `TensorNetwork` underneath\n",
                "\n",
                "`GenericTensorNetwork` implements both `TensorNetwork` (through the delegation to `SimpleTensorNetwork`) and `Taggable`, but a method from one of the interfaces might mutate the `GenericTensorNetwork` in such a way that the information from the other interface might be invalidated. It is the responsability of the implementor type (i.e. `GenericTensorNetwork`) to fix any inconsistencies.\n",
                "\n",
                "For example, calling `rmtensor!` on `GenericTensorNetwork` will automatically be delegated to the `SimpleTensorNetwork` and the `Tensor` (and `Vertex`) will be removed. If the `Tensor` is associated to a `Site`, removing the `Tensor` and not the `Site` will create a inconsistency.\n",
                "Due to that, `GenericTensorNetwork` intercepts the `rmtensor!`, removes the tag and finally calls `rmtensor!` on its delegated field (i.e. on the `SimpleTensorNetwork`).\n",
                "Another example is that `addvertex!` or `rmvertex!` from the `Network` interface on `SimpleTensorNetwork` would break the one-to-one map between vertices and `Tensor`s, and thus `SimpleTensorNetwork` forbids them.\n",
                "\n",
                "Summarizing, calling mutating functions of interfaces that are delegated should be safe or forbidden (note for implementors)."
            ]
        },
        {
            "cell_type": "code",
            "execution_count": 22,
            "id": "63780fa3",
            "metadata": {},
            "outputs": [
                {
                    "data": {
                        "text/plain": [
                            "GenericTensorNetwork (#tensors=2, #inds=3)"
                        ]
                    },
                    "metadata": {},
                    "output_type": "display_data"
                }
            ],
            "source": [
                "γa = similar(Γa)\n",
                "replace!(tn, Γa => γa)"
            ]
        },
        {
            "cell_type": "code",
            "execution_count": 23,
            "id": "d91a304f",
            "metadata": {},
            "outputs": [
                {
                    "ename": "KeyError",
                    "evalue": "KeyError: key [1 0; 0 1] not found",
                    "output_type": "error",
                    "traceback": [
                        "KeyError: key [1 0; 0 1] not found\n",
                        "\n",
                        "Stacktrace:\n",
                        " [1] getindex\n",
                        "   @ ./iddict.jl:98 [inlined]\n",
                        " [2] inverse\n",
                        "   @ ~/.julia/packages/Bijections/SSBuE/src/Bijections.jl:145 [inlined]\n",
                        " [3] Bijection\n",
                        "   @ ~/.julia/packages/Bijections/SSBuE/src/Bijections.jl:149 [inlined]\n",
                        " [4] vertex_at\n",
                        "   @ ~/Developer/TenetCore.jl/src/Components/SimpleTensorNetwork.jl:89 [inlined]\n",
                        " [5] vertex_at\n",
                        "   @ ~/.julia/packages/Networks/gAtSl/src/Interfaces/Network.jl:145 [inlined]\n",
                        " [6] vertex_at(graph::GenericTensorNetwork, tag::Tensor{Int64, 2, Matrix{Int64}})\n",
                        "   @ Networks ~/.julia/packages/Networks/gAtSl/src/Interfaces/Network.jl:144\n",
                        " [7] top-level scope\n",
                        "   @ ~/Developer/TenetCore.jl/examples/jl_notebook_cell_df34fa98e69747e1a8f8a730347b8e2f_X43sZmlsZQ==.jl:1"
                    ]
                }
            ],
            "source": [
                "tag_at_vertex(tn, vertex_at(tn, Γa))"
            ]
        },
        {
            "cell_type": "markdown",
            "id": "e800b9a2",
            "metadata": {},
            "source": [
                "`site_at(tn, Γa)` fails because `Γa` is no longer in the Tensor Network, but the tag remains associated with the new `Tensor` it has been replaced with."
            ]
        },
        {
            "cell_type": "code",
            "execution_count": 24,
            "id": "7c44bdf1",
            "metadata": {},
            "outputs": [
                {
                    "data": {
                        "text/plain": [
                            "(1,)"
                        ]
                    },
                    "metadata": {},
                    "output_type": "display_data"
                }
            ],
            "source": [
                "tag_at_vertex(tn, vertex_at(tn, γa))"
            ]
        },
        {
            "cell_type": "markdown",
            "id": "0b6c503c",
            "metadata": {},
            "source": [
                "## Creating a new `Tag` type\n",
                "\n",
                "Creating a new `Tag` type is extremely easy. You just keep in mind that you might want to overload some methods related to somo other `Tag` if it needs to interact with or act like it."
            ]
        },
        {
            "cell_type": "code",
            "execution_count": 25,
            "id": "51acb6c9",
            "metadata": {},
            "outputs": [],
            "source": [
                "struct VidalLambda{B} <: QuantumTags.Site\n",
                "    bond::B\n",
                "end\n",
                "\n",
                "QuantumTags.issite(::VidalLambda) = false\n",
                "QuantumTags.bond(x::VidalLambda) = x.bond\n",
                "QuantumTags.isbond(x::VidalLambda) = true"
            ]
        },
        {
            "cell_type": "code",
            "execution_count": 26,
            "id": "f4cf4174",
            "metadata": {},
            "outputs": [
                {
                    "data": {
                        "text/plain": [
                            "GenericTensorNetwork (#tensors=3, #inds=3)"
                        ]
                    },
                    "metadata": {},
                    "output_type": "display_data"
                }
            ],
            "source": [
                "Λ = Tensor([1, 1], [Index(:j)])\n",
                "addtensor!(tn, Λ)\n",
                "tag_vertex!(tn, Λ, VidalLambda(bond\"1-2\"))"
            ]
        },
        {
            "cell_type": "code",
            "execution_count": 27,
            "id": "adae0bf2",
            "metadata": {},
            "outputs": [
                {
                    "data": {
                        "text/plain": [
                            "2-element Tensor{Int64, 1, Vector{Int64}}:\n",
                            " 1\n",
                            " 1"
                        ]
                    },
                    "metadata": {},
                    "output_type": "display_data"
                }
            ],
            "source": [
                "tensor(tn; at=VidalLambda(bond\"1-2\"))"
            ]
        }
    ],
    "metadata": {
        "kernelspec": {
            "display_name": "Julia 1.11.5",
            "language": "julia",
            "name": "julia-1.11"
        },
        "language_info": {
            "file_extension": ".jl",
            "mimetype": "application/julia",
            "name": "julia",
            "version": "1.11.5"
        }
    },
    "nbformat": 4,
    "nbformat_minor": 5
}
