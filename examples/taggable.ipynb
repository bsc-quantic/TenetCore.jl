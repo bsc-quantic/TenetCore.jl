{
    "cells": [
        {
            "cell_type": "markdown",
            "id": "a56fc81c",
            "metadata": {},
            "source": [
                "# Taggable and TaggedTensorNetwork"
            ]
        },
        {
            "cell_type": "code",
            "execution_count": 1,
            "id": "c904ce13",
            "metadata": {},
            "outputs": [],
            "source": [
                "using TenetCore\n",
                "using QuantumTags: QuantumTags"
            ]
        },
        {
            "cell_type": "markdown",
            "id": "84a7160d",
            "metadata": {},
            "source": [
                "`Taggable` is the interface that allows a `TensorNetwork` to tag its tensors and indices with `Tag`s.\n",
                "\n",
                "`TaggedTensorNetwork` is a implementation of `Taggable` that uses `GenericTensorNetwork` underneath and can only contain one `Tag` per `Tensor` or `Index`."
            ]
        },
        {
            "cell_type": "code",
            "execution_count": 2,
            "id": "e9f97949",
            "metadata": {},
            "outputs": [
                {
                    "data": {
                        "text/plain": [
                            "TaggedTensorNetwork (#tensors=0, #inds=0)"
                        ]
                    },
                    "metadata": {},
                    "output_type": "display_data"
                }
            ],
            "source": [
                "tn = TaggedTensorNetwork()"
            ]
        },
        {
            "cell_type": "code",
            "execution_count": 3,
            "id": "3c6203bc",
            "metadata": {},
            "outputs": [
                {
                    "data": {
                        "text/plain": [
                            "TaggedTensorNetwork (#tensors=2, #inds=3)"
                        ]
                    },
                    "metadata": {},
                    "output_type": "display_data"
                }
            ],
            "source": [
                "Γa = Tensor([1 0; 0 1], [Index(:i), Index(:j)])\n",
                "Γb = Tensor([1 0; 0 1], [Index(:j), Index(:k)])\n",
                "addtensor!(tn, Γa)\n",
                "addtensor!(tn, Γb)"
            ]
        },
        {
            "cell_type": "markdown",
            "id": "be8eeba0",
            "metadata": {},
            "source": [
                "On one side, there is `Site`: a `Tag` abstract type for `Tensor`s."
            ]
        },
        {
            "cell_type": "code",
            "execution_count": 4,
            "id": "0f12d289",
            "metadata": {},
            "outputs": [
                {
                    "data": {
                        "text/plain": [
                            "(1,)"
                        ]
                    },
                    "metadata": {},
                    "output_type": "display_data"
                }
            ],
            "source": [
                "site\"1\""
            ]
        },
        {
            "cell_type": "code",
            "execution_count": 5,
            "id": "e08f7fc2",
            "metadata": {},
            "outputs": [
                {
                    "data": {
                        "text/plain": [
                            "(1, 2)"
                        ]
                    },
                    "metadata": {},
                    "output_type": "display_data"
                }
            ],
            "source": [
                "site\"1,2\""
            ]
        },
        {
            "cell_type": "markdown",
            "id": "3f3ef191",
            "metadata": {},
            "source": [
                "Note that `Site` is an abstract type and that `@site_str` creates a `CartesianSite` object."
            ]
        },
        {
            "cell_type": "code",
            "execution_count": 6,
            "id": "fe3def1f",
            "metadata": {},
            "outputs": [
                {
                    "data": {
                        "text/plain": [
                            "CartesianSite{1}"
                        ]
                    },
                    "metadata": {},
                    "output_type": "display_data"
                }
            ],
            "source": [
                "typeof(site\"1\")"
            ]
        },
        {
            "cell_type": "markdown",
            "id": "c84bfa16",
            "metadata": {},
            "source": [
                "In order to tag a `Tensor` with a `Site`, there is the `tag!` function."
            ]
        },
        {
            "cell_type": "code",
            "execution_count": 7,
            "id": "9bb110bc",
            "metadata": {},
            "outputs": [
                {
                    "data": {
                        "text/plain": [
                            "TaggedTensorNetwork (#tensors=2, #inds=3)"
                        ]
                    },
                    "metadata": {},
                    "output_type": "display_data"
                }
            ],
            "source": [
                "tag!(tn, Γa, site\"1\")\n",
                "tag!(tn, Γb, site\"2\")"
            ]
        },
        {
            "cell_type": "markdown",
            "id": "f1a62692",
            "metadata": {},
            "source": [
                "`all_sites` (aka as just calling `sites`) returns all the tags associated to `Tensor`s (i.e. all the `Site` tags)."
            ]
        },
        {
            "cell_type": "code",
            "execution_count": 8,
            "id": "7d43e705",
            "metadata": {},
            "outputs": [
                {
                    "data": {
                        "text/plain": [
                            "2-element Vector{Site}:\n",
                            " (1,)\n",
                            " (2,)"
                        ]
                    },
                    "metadata": {},
                    "output_type": "display_data"
                }
            ],
            "source": [
                "sites(tn)"
            ]
        },
        {
            "cell_type": "markdown",
            "id": "9af41e1f",
            "metadata": {},
            "source": [
                "In order to retrieve a tensor with that tag, there is the `tensor_at` (aka `tensor(; at)`) method."
            ]
        },
        {
            "cell_type": "code",
            "execution_count": 9,
            "id": "b165c3e8",
            "metadata": {},
            "outputs": [
                {
                    "data": {
                        "text/plain": [
                            "2×2 Tensor{Int64, 2, Matrix{Int64}}:\n",
                            " 1  0\n",
                            " 0  1"
                        ]
                    },
                    "metadata": {},
                    "output_type": "display_data"
                }
            ],
            "source": [
                "tensor_at(tn, site\"1\")"
            ]
        },
        {
            "cell_type": "code",
            "execution_count": 10,
            "id": "bd1606e3",
            "metadata": {},
            "outputs": [
                {
                    "data": {
                        "text/plain": [
                            "true"
                        ]
                    },
                    "metadata": {},
                    "output_type": "display_data"
                }
            ],
            "source": [
                "tensor(tn; at=site\"1\") === Γa"
            ]
        },
        {
            "cell_type": "markdown",
            "id": "f5fa3d7b",
            "metadata": {},
            "source": [
                "On the other hand, there are `Link`s: `Tag` abstract type for `Index`s.\n",
                "\n",
                "The most fundamental `Link` types are `Plug` (used for representing physical input/output open indices) and `Bond` (used for representing virtual bonds connecting different sites)."
            ]
        },
        {
            "cell_type": "code",
            "execution_count": 11,
            "id": "ce123d17",
            "metadata": {},
            "outputs": [
                {
                    "data": {
                        "text/plain": [
                            "(1,)"
                        ]
                    },
                    "metadata": {},
                    "output_type": "display_data"
                }
            ],
            "source": [
                "plug\"1\""
            ]
        },
        {
            "cell_type": "code",
            "execution_count": 12,
            "id": "ded527c6",
            "metadata": {},
            "outputs": [
                {
                    "data": {
                        "text/plain": [
                            "Plug{CartesianSite{1}}"
                        ]
                    },
                    "metadata": {},
                    "output_type": "display_data"
                }
            ],
            "source": [
                "typeof(plug\"1\")"
            ]
        },
        {
            "cell_type": "code",
            "execution_count": 13,
            "id": "5d8043f7",
            "metadata": {},
            "outputs": [
                {
                    "data": {
                        "text/plain": [
                            "(1,) <=> (2,)"
                        ]
                    },
                    "metadata": {},
                    "output_type": "display_data"
                }
            ],
            "source": [
                "bond\"1-2\""
            ]
        },
        {
            "cell_type": "code",
            "execution_count": 14,
            "id": "6b71f966",
            "metadata": {},
            "outputs": [
                {
                    "data": {
                        "text/plain": [
                            "(1,) <=> (2,)"
                        ]
                    },
                    "metadata": {},
                    "output_type": "display_data"
                }
            ],
            "source": [
                "Bond(site\"1\", site\"2\")"
            ]
        },
        {
            "cell_type": "markdown",
            "id": "48969fc3",
            "metadata": {},
            "source": [
                "Just like with `Site`s, `tag!` can be used for tagging `Index` with a `Link`."
            ]
        },
        {
            "cell_type": "code",
            "execution_count": 15,
            "id": "00676a1e",
            "metadata": {},
            "outputs": [
                {
                    "data": {
                        "text/plain": [
                            "TaggedTensorNetwork (#tensors=2, #inds=3)"
                        ]
                    },
                    "metadata": {},
                    "output_type": "display_data"
                }
            ],
            "source": [
                "tag!(tn, Index(:i), plug\"1\")\n",
                "tag!(tn, Index(:k), plug\"2\")\n",
                "tag!(tn, Index(:j), bond\"1-2\")"
            ]
        },
        {
            "cell_type": "markdown",
            "id": "9fdfb481",
            "metadata": {},
            "source": [
                "`all_links` (aka just calling `links`) retrieves all the `Tag`s associated with `Index`s (i.e. all the `Link`s)."
            ]
        },
        {
            "cell_type": "code",
            "execution_count": 16,
            "id": "4f388e0b",
            "metadata": {},
            "outputs": [
                {
                    "data": {
                        "text/plain": [
                            "3-element Vector{Link}:\n",
                            " (1,) <=> (2,)\n",
                            " (2,)\n",
                            " (1,)"
                        ]
                    },
                    "metadata": {},
                    "output_type": "display_data"
                }
            ],
            "source": [
                "links(tn)"
            ]
        },
        {
            "cell_type": "markdown",
            "id": "3454088a",
            "metadata": {},
            "source": [
                "`ind_at` (aka `ind(; at)`) gets you the `Index` linked to the tag."
            ]
        },
        {
            "cell_type": "code",
            "execution_count": 17,
            "id": "f28f3c9e",
            "metadata": {},
            "outputs": [
                {
                    "data": {
                        "text/plain": [
                            "Index{Symbol}(:i)"
                        ]
                    },
                    "metadata": {},
                    "output_type": "display_data"
                }
            ],
            "source": [
                "ind_at(tn, plug\"1\")"
            ]
        },
        {
            "cell_type": "code",
            "execution_count": 18,
            "id": "778425ed",
            "metadata": {},
            "outputs": [
                {
                    "data": {
                        "text/plain": [
                            "Set{Link} with 2 elements:\n",
                            "  (2,)\n",
                            "  (1,)"
                        ]
                    },
                    "metadata": {},
                    "output_type": "display_data"
                }
            ],
            "source": [
                "plugs(tn)"
            ]
        },
        {
            "cell_type": "markdown",
            "id": "ddea1099",
            "metadata": {},
            "source": [
                "## The `TensorNetwork` underneath\n",
                "\n",
                "`Taggable` expects that the type implements also the `TensorNetwork` interface, and `TaggedTensorNetwork` does by delegating `TensorNetwork` to the `GenericTensorNetwork` that contains underneath."
            ]
        },
        {
            "cell_type": "code",
            "execution_count": 19,
            "id": "63780fa3",
            "metadata": {},
            "outputs": [
                {
                    "data": {
                        "text/plain": [
                            "TaggedTensorNetwork (#tensors=2, #inds=3)"
                        ]
                    },
                    "metadata": {},
                    "output_type": "display_data"
                }
            ],
            "source": [
                "γa = similar(Γa)\n",
                "replace!(tn, Γa => γa)"
            ]
        },
        {
            "cell_type": "markdown",
            "id": "ed087b81",
            "metadata": {},
            "source": [
                "Note that thanks to the `handle!` and `Effect` mechanism, the mappings between `Tag`s and `Tensor`/`Index` are automatically updated on a graph mutation."
            ]
        },
        {
            "cell_type": "code",
            "execution_count": 20,
            "id": "d91a304f",
            "metadata": {},
            "outputs": [
                {
                    "ename": "KeyError",
                    "evalue": "KeyError: key [1 0; 0 1] not found",
                    "output_type": "error",
                    "traceback": [
                        "KeyError: key [1 0; 0 1] not found\n",
                        "\n",
                        "Stacktrace:\n",
                        " [1] getindex\n",
                        "   @ ./iddict.jl:98 [inlined]\n",
                        " [2] getindex\n",
                        "   @ ~/.julia/packages/BijectiveDicts/ULBFG/src/BijectiveDicts.jl:44 [inlined]\n",
                        " [3] site_at\n",
                        "   @ ~/Developer/TenetCore.jl/src/TaggedTensorNetwork.jl:58 [inlined]\n",
                        " [4] site\n",
                        "   @ ~/Developer/TenetCore.jl/src/Interfaces/Taggable.jl:62 [inlined]\n",
                        " [5] #site#65\n",
                        "   @ ~/Developer/TenetCore.jl/src/Interfaces/Taggable.jl:61 [inlined]\n",
                        " [6] top-level scope\n",
                        "   @ ~/Developer/TenetCore.jl/examples/jl_notebook_cell_df34fa98e69747e1a8f8a730347b8e2f_Y141sZmlsZQ==.jl:1"
                    ]
                }
            ],
            "source": [
                "site(tn; at=Γa)"
            ]
        },
        {
            "cell_type": "code",
            "execution_count": 21,
            "id": "7c44bdf1",
            "metadata": {},
            "outputs": [
                {
                    "data": {
                        "text/plain": [
                            "(1,)"
                        ]
                    },
                    "metadata": {},
                    "output_type": "display_data"
                }
            ],
            "source": [
                "site(tn; at=γa)"
            ]
        },
        {
            "cell_type": "markdown",
            "id": "0b6c503c",
            "metadata": {},
            "source": [
                "## Creating a new `Tag` type\n",
                "\n",
                "Creating a new `Tag` type is extremely easy. You just keep in mind that you might want to overload some methods related to somo other `Tag` if it needs to interact with or act like it."
            ]
        },
        {
            "cell_type": "code",
            "execution_count": 22,
            "id": "51acb6c9",
            "metadata": {},
            "outputs": [],
            "source": [
                "struct VidalLambda{B} <: QuantumTags.Site\n",
                "    bond::B\n",
                "end\n",
                "\n",
                "QuantumTags.issite(::VidalLambda) = false\n",
                "QuantumTags.bond(x::VidalLambda) = x.bond\n",
                "QuantumTags.isbond(x::VidalLambda) = true"
            ]
        },
        {
            "cell_type": "code",
            "execution_count": 23,
            "id": "f4cf4174",
            "metadata": {},
            "outputs": [
                {
                    "data": {
                        "text/plain": [
                            "TaggedTensorNetwork (#tensors=3, #inds=3)"
                        ]
                    },
                    "metadata": {},
                    "output_type": "display_data"
                }
            ],
            "source": [
                "Λ = Tensor([1, 1], [Index(:j)])\n",
                "addtensor!(tn, Λ)\n",
                "tag!(tn, Λ, VidalLambda(bond\"1-2\"))"
            ]
        },
        {
            "cell_type": "code",
            "execution_count": 24,
            "id": "adae0bf2",
            "metadata": {},
            "outputs": [
                {
                    "data": {
                        "text/plain": [
                            "2-element Tensor{Int64, 1, Vector{Int64}}:\n",
                            " 1\n",
                            " 1"
                        ]
                    },
                    "metadata": {},
                    "output_type": "display_data"
                }
            ],
            "source": [
                "tensor(tn; at=VidalLambda(bond\"1-2\"))"
            ]
        },
        {
            "cell_type": "code",
            "execution_count": 25,
            "id": "16008add",
            "metadata": {},
            "outputs": [
                {
                    "data": {
                        "text/plain": [
                            "1-element Vector{Site}:\n",
                            " VidalLambda{Bond{CartesianSite{1}, CartesianSite{1}}}((1,) <=> (2,))"
                        ]
                    },
                    "metadata": {},
                    "output_type": "display_data"
                }
            ],
            "source": [
                "filter(QuantumTags.isbond, sites(tn))"
            ]
        },
        {
            "cell_type": "markdown",
            "id": "d1babb2d",
            "metadata": {},
            "source": [
                "`sites_like` (aka `sites(; like, by)`) and `links_like` (aka `links(; like, by)`) can be used for \"projective or contextual equality\": For example, `bond\"1-2\"` and `VidalLambda(bond\"1-2\")` can be seen as equal in the sense that both reference the same `Bond`."
            ]
        },
        {
            "cell_type": "code",
            "execution_count": 26,
            "id": "9563bd09",
            "metadata": {},
            "outputs": [
                {
                    "data": {
                        "text/plain": [
                            "is_bond_equal (generic function with 1 method)"
                        ]
                    },
                    "metadata": {},
                    "output_type": "display_data"
                }
            ],
            "source": [
                "is_bond_equal(x, y) = isbond(x) && isbond(y) && bond(x) == bond(y)"
            ]
        },
        {
            "cell_type": "code",
            "execution_count": 27,
            "id": "5da23e8a",
            "metadata": {},
            "outputs": [
                {
                    "data": {
                        "text/plain": [
                            "Set{Site} with 1 element:\n",
                            "  VidalLambda{Bond{CartesianSite{1}, CartesianSite{1}}}((1,) <=> (2,))"
                        ]
                    },
                    "metadata": {},
                    "output_type": "display_data"
                }
            ],
            "source": [
                "sites_like(is_bond_equal, tn, bond\"1-2\")"
            ]
        },
        {
            "cell_type": "markdown",
            "id": "554abc1d",
            "metadata": {},
            "source": [
                "As seen, this functionality can be used to compose `Tag` types, adding more details to a `Tag` or `Link`, but still referencing the same kind of `Tag`.\n",
                "\n",
                "Another example would be a potential symmetry `Tag` that tells and `Index` the direction and type of the symmetry, without needing to reimplement the `Plug` or `Bond` types (and being generic to them)."
            ]
        },
        {
            "cell_type": "markdown",
            "id": "2a1fec14",
            "metadata": {},
            "source": [
                "## Effect handling"
            ]
        },
        {
            "cell_type": "markdown",
            "id": "433a3306",
            "metadata": {},
            "source": [
                "The `Taggable` mutating methods introduce 2 effects, `TagEffect` and `UntagEffect`, that are emitted by `tag!` and `untag!` respectively.\n",
                "\n",
                "Furthermore, `ReplaceEffect` is also used by `replace_tag!` with the specific parameterized types `ReplaceEffect{<:Site,<:Site}` and `ReplaceEffect{<:Link,<:Link}`."
            ]
        },
        {
            "cell_type": "code",
            "execution_count": null,
            "id": "23c00dbe",
            "metadata": {},
            "outputs": [],
            "source": [
                "struct MyTaggedTensorNetwork <: TenetCore.AbstractTensorNetwork\n",
                "    tn::TaggedTensorNetwork\n",
                "end\n",
                "\n",
                "MyTaggedTensorNetwork() = MyTaggedTensorNetwork(TaggedTensorNetwork())\n",
                "MyTaggedTensorNetwork(tensors::AbstractVector{<:Tensor}) = MyTaggedTensorNetwork(TaggedTensorNetwork(GenericTensorNetwork(tensors)))\n",
                "\n",
                "TenetCore.DelegatorTrait(::TenetCore.TensorNetwork, tn::MyTaggedTensorNetwork) = TenetCore.DelegateTo{:tn}()\n",
                "TenetCore.DelegatorTrait(::TenetCore.Taggable, tn::MyTaggedTensorNetwork) = TenetCore.DelegateTo{:tn}()"
            ]
        },
        {
            "cell_type": "code",
            "execution_count": 29,
            "id": "0007b6dd",
            "metadata": {},
            "outputs": [],
            "source": [
                "TenetCore.handle!(tn::MyTaggedTensorNetwork, e::TenetCore.TagEffect{<:Site}) = @warn \"added a Site tag: $(e.tag)\"\n",
                "TenetCore.handle!(tn::MyTaggedTensorNetwork, e::TenetCore.UntagEffect{<:Site}) = @warn \"removed a Site tag: $(e.tag)\"\n",
                "\n",
                "TenetCore.handle!(tn::MyTaggedTensorNetwork, e::TenetCore.TagEffect{<:Link}) = @warn \"added a Link tag: $(e.tag)\"\n",
                "TenetCore.handle!(tn::MyTaggedTensorNetwork, e::TenetCore.UntagEffect{<:Link}) = @warn \"removed a Link tag: $(e.tag)\"\n",
                "\n",
                "TenetCore.handle!(tn::MyTaggedTensorNetwork, e::TenetCore.ReplaceEffect{<:Site,<:Site}) = @warn \"replaced Site tag $(e.old) with $(e.new)\"\n",
                "TenetCore.handle!(tn::MyTaggedTensorNetwork, e::TenetCore.ReplaceEffect{<:Link,<:Link}) = @warn \"replaced Link tag $(e.old) with $(e.new)\""
            ]
        },
        {
            "cell_type": "code",
            "execution_count": 30,
            "id": "95635670",
            "metadata": {},
            "outputs": [
                {
                    "data": {
                        "text/plain": [
                            "MyTaggedTensorNetwork (#tensors=1, #inds=2)"
                        ]
                    },
                    "metadata": {},
                    "output_type": "display_data"
                }
            ],
            "source": [
                "Γ = Tensor([1 0; 0 1], [Index(plug\"1\"), Index(bond\"1-2\")])\n",
                "tn = MyTaggedTensorNetwork([Γ])"
            ]
        },
        {
            "cell_type": "code",
            "execution_count": 31,
            "id": "d17772e1",
            "metadata": {},
            "outputs": [
                {
                    "name": "stderr",
                    "output_type": "stream",
                    "text": [
                        "┌ Warning: added a Site tag: (1,)\n",
                        "└ @ Main /Users/mofeing/Developer/TenetCore.jl/examples/jl_notebook_cell_df34fa98e69747e1a8f8a730347b8e2f_X50sZmlsZQ==.jl:1\n"
                    ]
                },
                {
                    "data": {
                        "text/plain": [
                            "MyTaggedTensorNetwork (#tensors=1, #inds=2)"
                        ]
                    },
                    "metadata": {},
                    "output_type": "display_data"
                }
            ],
            "source": [
                "tag!(tn, Γ, site\"1\")"
            ]
        },
        {
            "cell_type": "code",
            "execution_count": 32,
            "id": "f3717cad",
            "metadata": {},
            "outputs": [
                {
                    "name": "stderr",
                    "output_type": "stream",
                    "text": [
                        "┌ Warning: added a Link tag: (1,)\n",
                        "└ @ Main /Users/mofeing/Developer/TenetCore.jl/examples/jl_notebook_cell_df34fa98e69747e1a8f8a730347b8e2f_X50sZmlsZQ==.jl:4\n"
                    ]
                },
                {
                    "data": {
                        "text/plain": [
                            "MyTaggedTensorNetwork (#tensors=1, #inds=2)"
                        ]
                    },
                    "metadata": {},
                    "output_type": "display_data"
                }
            ],
            "source": [
                "tag!(tn, Index(plug\"1\"), plug\"1\")"
            ]
        },
        {
            "cell_type": "code",
            "execution_count": 33,
            "id": "8dd70585",
            "metadata": {},
            "outputs": [
                {
                    "name": "stderr",
                    "output_type": "stream",
                    "text": [
                        "┌ Warning: replaced Site tag (1,) with (2,)\n",
                        "└ @ Main /Users/mofeing/Developer/TenetCore.jl/examples/jl_notebook_cell_df34fa98e69747e1a8f8a730347b8e2f_X50sZmlsZQ==.jl:7\n"
                    ]
                },
                {
                    "data": {
                        "text/plain": [
                            "MyTaggedTensorNetwork (#tensors=1, #inds=2)"
                        ]
                    },
                    "metadata": {},
                    "output_type": "display_data"
                }
            ],
            "source": [
                "replace_tag!(tn, site\"1\", site\"2\")"
            ]
        },
        {
            "cell_type": "code",
            "execution_count": 34,
            "id": "21e857d0",
            "metadata": {},
            "outputs": [
                {
                    "name": "stderr",
                    "output_type": "stream",
                    "text": [
                        "┌ Warning: replaced Link tag (1,) with (2,)\n",
                        "└ @ Main /Users/mofeing/Developer/TenetCore.jl/examples/jl_notebook_cell_df34fa98e69747e1a8f8a730347b8e2f_X50sZmlsZQ==.jl:8\n"
                    ]
                },
                {
                    "data": {
                        "text/plain": [
                            "MyTaggedTensorNetwork (#tensors=1, #inds=2)"
                        ]
                    },
                    "metadata": {},
                    "output_type": "display_data"
                }
            ],
            "source": [
                "replace_tag!(tn, plug\"1\", plug\"2\")"
            ]
        },
        {
            "cell_type": "code",
            "execution_count": 35,
            "id": "b1b1d8ee",
            "metadata": {},
            "outputs": [
                {
                    "name": "stderr",
                    "output_type": "stream",
                    "text": [
                        "┌ Warning: removed a Site tag: (2,)\n",
                        "└ @ Main /Users/mofeing/Developer/TenetCore.jl/examples/jl_notebook_cell_df34fa98e69747e1a8f8a730347b8e2f_X50sZmlsZQ==.jl:2\n"
                    ]
                },
                {
                    "data": {
                        "text/plain": [
                            "MyTaggedTensorNetwork (#tensors=1, #inds=2)"
                        ]
                    },
                    "metadata": {},
                    "output_type": "display_data"
                }
            ],
            "source": [
                "untag!(tn, site\"2\")"
            ]
        },
        {
            "cell_type": "code",
            "execution_count": 36,
            "id": "9076cd7a",
            "metadata": {},
            "outputs": [
                {
                    "name": "stderr",
                    "output_type": "stream",
                    "text": [
                        "┌ Warning: removed a Link tag: (2,)\n",
                        "└ @ Main /Users/mofeing/Developer/TenetCore.jl/examples/jl_notebook_cell_df34fa98e69747e1a8f8a730347b8e2f_X50sZmlsZQ==.jl:5\n"
                    ]
                },
                {
                    "data": {
                        "text/plain": [
                            "MyTaggedTensorNetwork (#tensors=1, #inds=2)"
                        ]
                    },
                    "metadata": {},
                    "output_type": "display_data"
                }
            ],
            "source": [
                "untag!(tn, plug\"2\")"
            ]
        },
        {
            "cell_type": "code",
            "execution_count": 37,
            "id": "263862c0",
            "metadata": {},
            "outputs": [],
            "source": []
        }
    ],
    "metadata": {
        "kernelspec": {
            "display_name": "Julia 1.11.5",
            "language": "julia",
            "name": "julia-1.11"
        },
        "language_info": {
            "file_extension": ".jl",
            "mimetype": "application/julia",
            "name": "julia",
            "version": "1.11.5"
        }
    },
    "nbformat": 4,
    "nbformat_minor": 5
}
